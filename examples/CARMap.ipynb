{
 "cells": [
  {
   "cell_type": "code",
   "execution_count": 1,
   "metadata": {},
   "outputs": [
    {
     "data": {
      "application/vnd.jupyter.widget-view+json": {
       "model_id": "6e78a98f518c42a4a8e68fd5bd1897da",
       "version_major": 2,
       "version_minor": 0
      },
      "text/plain": [
       "Map(center=[0, 0], controls=(ZoomControl(options=['position', 'zoom_in_text', 'zoom_in_title', 'zoom_out_text'…"
      ]
     },
     "metadata": {},
     "output_type": "display_data"
    }
   ],
   "source": [
    "from ipyleaflet import Map, LocalTileLayer\n",
    "\n",
    "lt = LocalTileLayer(path=\"files/tiles/{z}/tile_{y}_{x}.png\",\n",
    "                    min_native_zoom=-5,\n",
    "                    max_native_zoom=0,\n",
    "                    min_zoom=-5,\n",
    "                    max_zoom=0,\n",
    "                    tile_size=675,\n",
    "                    attribution=\"\",\n",
    "                    name=\"CMB\",\n",
    "                    show_loading=False)\n",
    "m = Map(\n",
    "    layers=(lt, ),\n",
    "    crs=\"CAR\",\n",
    "    center=(0, 0),\n",
    "    zoom=0,\n",
    "    scroll_wheel_zoom=True,\n",
    "    world_copy_jump=True\n",
    "   )\n",
    "m"
   ]
  }
 ],
 "metadata": {
  "kernelspec": {
   "display_name": "Python 3",
   "language": "python",
   "name": "python3"
  },
  "language_info": {
   "codemirror_mode": {
    "name": "ipython",
    "version": 3
   },
   "file_extension": ".py",
   "mimetype": "text/x-python",
   "name": "python",
   "nbconvert_exporter": "python",
   "pygments_lexer": "ipython3",
   "version": "3.8.2"
  }
 },
 "nbformat": 4,
 "nbformat_minor": 4
}
