{
 "cells": [
  {
   "cell_type": "markdown",
   "metadata": {},
   "source": [
    "# ipyleaflet for CAR maps\n",
    "We first import all needed material"
   ]
  },
  {
   "cell_type": "code",
   "execution_count": 1,
   "metadata": {},
   "outputs": [],
   "source": [
    "from ipyleaflet import (\n",
    "    Map, MapStyle,\n",
    "    TileLayer, LocalTileLayer, ColorizableTileLayer, Graticule, \n",
    "    MapRangeControl, MousePositionControl, FullScreenControl, LayersControl, WidgetControl,\n",
    ")\n",
    "import ipywidgets as widgets"
   ]
  },
  {
   "cell_type": "markdown",
   "metadata": {},
   "source": [
    "The we define the base map that will embed all the different layers "
   ]
  },
  {
   "cell_type": "code",
   "execution_count": 2,
   "metadata": {},
   "outputs": [],
   "source": [
    "def deflayer(url, name):\n",
    "    return ColorizableTileLayer(url=\"files/\" + url,\n",
    "                                base=True,\n",
    "                                min_zoom=-5,\n",
    "                                max_zoom=+5,\n",
    "                                min_native_zoom=-5,\n",
    "                                max_native_zoom=0,                            \n",
    "                                tile_size=675,\n",
    "                                attribution=\"\",\n",
    "                                name=name,\n",
    "                                show_loading=False,\n",
    "                                colormap=\"planck\")\n",
    "\n",
    "m = Map(\n",
    "    layers=(Graticule(),),\n",
    "    controls=(FullScreenControl(), \n",
    "              MousePositionControl(), \n",
    "              MapRangeControl(), \n",
    "              LayersControl(collapsed=False)),\n",
    "    crs=\"CAR\",\n",
    "    center=(0, 0),\n",
    "#    min_zoom=-10,\n",
    "#    max_zoom=+10,\n",
    "    interpolation=\"nearest\",\n",
    "    zoom=0,\n",
    "    scroll_wheel_zoom=True,\n",
    "    fade_animation=False,\n",
    "    world_copy_jump=True,\n",
    "    #style=MapStyle(cursor=\"default\"),\n",
    "    default_style=MapStyle(cursor=\"default\"),\n",
    "    #dragging_style=MapStyle(cursor=\"default\")\n",
    "   )\n",
    "\n",
    "#m.layout.height = '700px'"
   ]
  },
  {
   "cell_type": "markdown",
   "metadata": {},
   "source": [
    "We can show the map using the `sidecar` plugin for jupyter lab."
   ]
  },
  {
   "cell_type": "code",
   "execution_count": 3,
   "metadata": {},
   "outputs": [],
   "source": [
    "from sidecar import Sidecar\n",
    "sc = Sidecar(title='CMB map')\n",
    "with sc:\n",
    "   display(m)"
   ]
  },
  {
   "cell_type": "markdown",
   "metadata": {},
   "source": [
    "Now we add the different layers corresponding to the different maps"
   ]
  },
  {
   "cell_type": "code",
   "execution_count": 4,
   "metadata": {},
   "outputs": [],
   "source": [
    "layers = [deflayer(\"tiles/split%s_IQU.fits/{z}/tile_{y}_{x}_%s.png\" % (str(split), str(i)), \"CMB - {} - split {}\".format(item, split)) \n",
    "          for i, item in enumerate(\"IQU\") for split in [0, 1]]\n",
    "for layer in layers:\n",
    "    m.add_layer(layer)"
   ]
  },
  {
   "cell_type": "markdown",
   "metadata": {},
   "source": [
    "We now add widgets to change the colormaps and the color range."
   ]
  },
  {
   "cell_type": "code",
   "execution_count": 5,
   "metadata": {},
   "outputs": [],
   "source": [
    "scale = widgets.FloatSlider(\n",
    "    value=1.0,\n",
    "    min=0,\n",
    "    max=10.0,\n",
    "    step=0.1,\n",
    "    description=\"scale\",\n",
    "    continuous_update=False,\n",
    "    orientation='vertical',\n",
    "    readout_format='.1f',\n",
    "    layout=widgets.Layout(width='100px')\n",
    ")\n",
    "def on_scale_change(change):\n",
    "    for layer in layers:\n",
    "        layer.scale = change[\"new\"]\n",
    "scale.observe(on_scale_change, names='value')\n",
    "m.add_control(WidgetControl(widget=scale, position='topright'))\n",
    "\n",
    "from ipyleaflet import allowed_colormaps\n",
    "cmap = widgets.RadioButtons(\n",
    "    options=allowed_colormaps,\n",
    "    value='planck', \n",
    "    description='',\n",
    "    layout=widgets.Layout(width='100px')\n",
    ")\n",
    "def on_cmap_change(change):\n",
    "    for layer in layers:\n",
    "        layer.colormap = change[\"new\"]\n",
    "cmap.observe(on_cmap_change, names='value')\n",
    "m.add_control(WidgetControl(widget=cmap, position='topright'))"
   ]
  },
  {
   "cell_type": "markdown",
   "metadata": {},
   "source": [
    "We also add a button widget to start the computation of power spectra if patches are available"
   ]
  },
  {
   "cell_type": "code",
   "execution_count": 6,
   "metadata": {},
   "outputs": [],
   "source": [
    "button = widgets.Button(description='Process spectra',\n",
    "                        icon=\"times\", \n",
    "                        tooltip=\"No patches!\",\n",
    "                        disabled=True)\n",
    "m.add_control(WidgetControl(widget=button, position='bottomright'))"
   ]
  },
  {
   "cell_type": "markdown",
   "metadata": {},
   "source": [
    "Finally let's add a toolbar to select patches. When a patch is drawn, we store its properties in `json` format"
   ]
  },
  {
   "cell_type": "code",
   "execution_count": 7,
   "metadata": {},
   "outputs": [],
   "source": [
    "from ipyleaflet import DrawControl\n",
    "draw_control = DrawControl()\n",
    "draw_control.polyline = {}\n",
    "draw_control.polygon = {}\n",
    "draw_control.circlemarker = {\"repeatMode\": True}\n",
    "draw_control.circle = {\"repeatMode\": True, \"metric\": False}\n",
    "draw_control.rectangle = {\"repeatMode\": True, \"showArea\": False}\n",
    "\n",
    "patches = []\n",
    "def handle_draw(self, action, geo_json):\n",
    "    if action == \"created\":\n",
    "        patches.append(geo_json)\n",
    "    if len(patches) > 0:\n",
    "        button.disabled = False\n",
    "        button.icon = \"check\"\n",
    "        button.tooltip = \"Click to compute spectra\"\n",
    "\n",
    "draw_control.on_draw(handle_draw)\n",
    "m.add_control(draw_control)"
   ]
  },
  {
   "cell_type": "code",
   "execution_count": 21,
   "metadata": {},
   "outputs": [],
   "source": [
    "patches = []"
   ]
  },
  {
   "cell_type": "code",
   "execution_count": 8,
   "metadata": {},
   "outputs": [
    {
     "ename": "ModuleNotFoundError",
     "evalue": "No module named 'psplay'",
     "output_type": "error",
     "traceback": [
      "\u001b[0;31m---------------------------------------------------------------------------\u001b[0m",
      "\u001b[0;31mModuleNotFoundError\u001b[0m                       Traceback (most recent call last)",
      "\u001b[0;32m<ipython-input-8-19f5b13e3bd1>\u001b[0m in \u001b[0;36m<module>\u001b[0;34m\u001b[0m\n\u001b[1;32m      2\u001b[0m     \u001b[0;32mreturn\u001b[0m \u001b[0;34m[\u001b[0m\u001b[0mcoordinates\u001b[0m\u001b[0;34m[\u001b[0m\u001b[0;36m0\u001b[0m\u001b[0;34m]\u001b[0m\u001b[0;34m[\u001b[0m\u001b[0;36m0\u001b[0m\u001b[0;34m]\u001b[0m\u001b[0;34m[\u001b[0m\u001b[0;34m:\u001b[0m\u001b[0;34m:\u001b[0m\u001b[0;34m-\u001b[0m\u001b[0;36m1\u001b[0m\u001b[0;34m]\u001b[0m\u001b[0;34m,\u001b[0m \u001b[0mcoordinates\u001b[0m\u001b[0;34m[\u001b[0m\u001b[0;36m0\u001b[0m\u001b[0;34m]\u001b[0m\u001b[0;34m[\u001b[0m\u001b[0;36m2\u001b[0m\u001b[0;34m]\u001b[0m\u001b[0;34m[\u001b[0m\u001b[0;34m:\u001b[0m\u001b[0;34m:\u001b[0m\u001b[0;34m-\u001b[0m\u001b[0;36m1\u001b[0m\u001b[0;34m]\u001b[0m\u001b[0;34m]\u001b[0m\u001b[0;34m\u001b[0m\u001b[0;34m\u001b[0m\u001b[0m\n\u001b[1;32m      3\u001b[0m \u001b[0;34m\u001b[0m\u001b[0m\n\u001b[0;32m----> 4\u001b[0;31m \u001b[0;32mfrom\u001b[0m \u001b[0mpsplay\u001b[0m\u001b[0;34m.\u001b[0m\u001b[0mpsplay\u001b[0m \u001b[0;32mimport\u001b[0m \u001b[0mcompute_ps\u001b[0m\u001b[0;34m\u001b[0m\u001b[0;34m\u001b[0m\u001b[0m\n\u001b[0m\u001b[1;32m      5\u001b[0m \u001b[0mmap0_info\u001b[0m \u001b[0;34m=\u001b[0m \u001b[0;34m{\u001b[0m\u001b[0;34m\"name\"\u001b[0m\u001b[0;34m:\u001b[0m \u001b[0;34m\"psplay/split0_IQU.fits\"\u001b[0m\u001b[0;34m,\u001b[0m \u001b[0;34m\"data_type\"\u001b[0m\u001b[0;34m:\u001b[0m \u001b[0;34m\"IQU\"\u001b[0m\u001b[0;34m,\u001b[0m \u001b[0;34m\"id\"\u001b[0m\u001b[0;34m:\u001b[0m \u001b[0;34m\"split0\"\u001b[0m\u001b[0;34m,\u001b[0m \u001b[0;34m\"cal\"\u001b[0m\u001b[0;34m:\u001b[0m \u001b[0;32mNone\u001b[0m\u001b[0;34m}\u001b[0m\u001b[0;34m\u001b[0m\u001b[0;34m\u001b[0m\u001b[0m\n\u001b[1;32m      6\u001b[0m \u001b[0mmap1_info\u001b[0m \u001b[0;34m=\u001b[0m \u001b[0;34m{\u001b[0m\u001b[0;34m\"name\"\u001b[0m\u001b[0;34m:\u001b[0m \u001b[0;34m\"psplay/split1_IQU.fits\"\u001b[0m\u001b[0;34m,\u001b[0m \u001b[0;34m\"data_type\"\u001b[0m\u001b[0;34m:\u001b[0m \u001b[0;34m\"IQU\"\u001b[0m\u001b[0;34m,\u001b[0m \u001b[0;34m\"id\"\u001b[0m\u001b[0;34m:\u001b[0m \u001b[0;34m\"split1\"\u001b[0m\u001b[0;34m,\u001b[0m \u001b[0;34m\"cal\"\u001b[0m\u001b[0;34m:\u001b[0m \u001b[0;32mNone\u001b[0m\u001b[0;34m}\u001b[0m\u001b[0;34m\u001b[0m\u001b[0;34m\u001b[0m\u001b[0m\n",
      "\u001b[0;31mModuleNotFoundError\u001b[0m: No module named 'psplay'"
     ]
    }
   ],
   "source": [
    "def parse_rectangle(coordinates):\n",
    "    return [coordinates[0][0][::-1], coordinates[0][2][::-1]]\n",
    "\n",
    "from psplay.psplay import compute_ps\n",
    "map0_info = {\"name\": \"psplay/split0_IQU.fits\", \"data_type\": \"IQU\", \"id\": \"split0\", \"cal\": None}\n",
    "map1_info = {\"name\": \"psplay/split1_IQU.fits\", \"data_type\": \"IQU\", \"id\": \"split1\", \"cal\": None}\n",
    "\n",
    "maps_info_list = [map0_info, map1_info]\n",
    "\n",
    "# source_mask = {\"name\": \"source_mask.fits\", \"apo_type\": \"C1\", \"apo_radius\": 0.3}\n",
    "# galactic_mask = \"mask_galactic_equatorial_car_halfarcmin.fits\"\n",
    "\n",
    "def process_spectra(*args, **kwargs):\n",
    "    button.icon = 'gear spin lg'\n",
    "    print(\"Process spectra\")\n",
    "    for patch in patches:\n",
    "        geometry = patch.get(\"geometry\")\n",
    "        if geometry[\"type\"] == \"Polygon\":\n",
    "            patch_dict = {\n",
    "                \"patch_type\": \"Rectangle\",\n",
    "                \"patch_coordinate\": parse_rectangle(geometry[\"coordinates\"])\n",
    "            }\n",
    "            print(patch_dict)\n",
    "            spectra, spec_name_list, lb, ps, cov = compute_ps(patch_dict,\n",
    "                                                              maps_info_list,\n",
    "                                                              ps_method=\"master\",\n",
    "                                                              error_method_1d=\"master\",\n",
    "                                                              beam=None,\n",
    "                                                              binning_file=None,\n",
    "                                                              bin_size=40,\n",
    "                                                              type=\"Dl\",\n",
    "                                                              source_mask=None,\n",
    "                                                              galactic_mask=None,\n",
    "                                                              apo_radius_survey=1,\n",
    "                                                              compute_T_only=False,\n",
    "                                                              lmax=4000,\n",
    "                                                              master_threshold=500)\n",
    "    button.icon = 'check'\n",
    "    \n",
    "button.on_click(process_spectra)"
   ]
  },
  {
   "cell_type": "code",
   "execution_count": 14,
   "metadata": {},
   "outputs": [
    {
     "data": {
      "application/vnd.jupyter.widget-view+json": {
       "model_id": "744f97398c3f43ab8290e6ab38883901",
       "version_major": 2,
       "version_minor": 0
      },
      "text/plain": [
       "Button(description='Running', icon='gear lg', style=ButtonStyle())"
      ]
     },
     "metadata": {},
     "output_type": "display_data"
    }
   ],
   "source": [
    "button = widgets.Button(description=\"Running\", icon=\"gear lg\")\n",
    "button"
   ]
  },
  {
   "cell_type": "code",
   "execution_count": 11,
   "metadata": {
    "jupyter": {
     "source_hidden": true
    }
   },
   "outputs": [],
   "source": [
    "%matplotlib widget\n",
    "import matplotlib.pyplot as plt\n",
    "import numpy as np\n",
    "def plot_spectra(spectra, spec_name_list, lb, ps, cov):\n",
    "    fig, axes = plt.subplots(3, 3, figsize=(15, 12), sharex=True)\n",
    "    ax = axes.flatten()\n",
    "    for i, spec in enumerate(spectra):\n",
    "        for spec_name in spec_name_list:\n",
    "            ax[i].errorbar(lb, ps[spec_name][spec], np.sqrt(np.diag(cov[spec_name][spec])), fmt=\".\", label=spec_name)\n",
    "        ax[i].set_ylabel(r'$D^{%s}_{\\ell}$'%spec)\n",
    "\n",
    "    #fig.legend([], spec_name_list, loc=\"upper left\", bbox_to_anchor=(1,1))\n",
    "\n",
    "    for ax in axes[-1]:\n",
    "        ax.set_xlabel(r'$\\ell$')\n",
    "    plt.tight_layout()"
   ]
  },
  {
   "cell_type": "code",
   "execution_count": null,
   "metadata": {
    "jupyter": {
     "source_hidden": true
    }
   },
   "outputs": [],
   "source": [
    "from ipyleaflet import MeasureControl\n",
    "m.add_control(MeasureControl())"
   ]
  },
  {
   "cell_type": "code",
   "execution_count": null,
   "metadata": {
    "jupyter": {
     "source_hidden": true
    }
   },
   "outputs": [],
   "source": [
    "from ipyleaflet import Marker\n",
    "mark = Marker(location=m.center)\n",
    "m += mark"
   ]
  }
 ],
 "metadata": {
  "kernelspec": {
   "display_name": "Python 3",
   "language": "python",
   "name": "python3"
  },
  "language_info": {
   "codemirror_mode": {
    "name": "ipython",
    "version": 3
   },
   "file_extension": ".py",
   "mimetype": "text/x-python",
   "name": "python",
   "nbconvert_exporter": "python",
   "pygments_lexer": "ipython3",
   "version": "3.8.2"
  }
 },
 "nbformat": 4,
 "nbformat_minor": 4
}
